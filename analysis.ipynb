{
 "cells": [
  {
   "cell_type": "code",
   "execution_count": 1,
   "metadata": {},
   "outputs": [
    {
     "name": "stderr",
     "output_type": "stream",
     "text": [
      "/home/han/miniconda3/envs/cmu_vae2/lib/python3.6/site-packages/tensorboard/compat/tensorflow_stub/dtypes.py:541: FutureWarning: Passing (type, 1) or '1type' as a synonym of type is deprecated; in a future version of numpy, it will be understood as (type, (1,)) / '(1,)type'.\n",
      "  _np_qint8 = np.dtype([(\"qint8\", np.int8, 1)])\n",
      "/home/han/miniconda3/envs/cmu_vae2/lib/python3.6/site-packages/tensorboard/compat/tensorflow_stub/dtypes.py:542: FutureWarning: Passing (type, 1) or '1type' as a synonym of type is deprecated; in a future version of numpy, it will be understood as (type, (1,)) / '(1,)type'.\n",
      "  _np_quint8 = np.dtype([(\"quint8\", np.uint8, 1)])\n",
      "/home/han/miniconda3/envs/cmu_vae2/lib/python3.6/site-packages/tensorboard/compat/tensorflow_stub/dtypes.py:543: FutureWarning: Passing (type, 1) or '1type' as a synonym of type is deprecated; in a future version of numpy, it will be understood as (type, (1,)) / '(1,)type'.\n",
      "  _np_qint16 = np.dtype([(\"qint16\", np.int16, 1)])\n",
      "/home/han/miniconda3/envs/cmu_vae2/lib/python3.6/site-packages/tensorboard/compat/tensorflow_stub/dtypes.py:544: FutureWarning: Passing (type, 1) or '1type' as a synonym of type is deprecated; in a future version of numpy, it will be understood as (type, (1,)) / '(1,)type'.\n",
      "  _np_quint16 = np.dtype([(\"quint16\", np.uint16, 1)])\n",
      "/home/han/miniconda3/envs/cmu_vae2/lib/python3.6/site-packages/tensorboard/compat/tensorflow_stub/dtypes.py:545: FutureWarning: Passing (type, 1) or '1type' as a synonym of type is deprecated; in a future version of numpy, it will be understood as (type, (1,)) / '(1,)type'.\n",
      "  _np_qint32 = np.dtype([(\"qint32\", np.int32, 1)])\n",
      "/home/han/miniconda3/envs/cmu_vae2/lib/python3.6/site-packages/tensorboard/compat/tensorflow_stub/dtypes.py:550: FutureWarning: Passing (type, 1) or '1type' as a synonym of type is deprecated; in a future version of numpy, it will be understood as (type, (1,)) / '(1,)type'.\n",
      "  np_resource = np.dtype([(\"resource\", np.ubyte, 1)])\n"
     ]
    }
   ],
   "source": [
    "%matplotlib inline\n",
    "import argparse\n",
    "import glob\n",
    "import logging\n",
    "import os\n",
    "import pickle\n",
    "import random\n",
    "import re\n",
    "import csv\n",
    "from typing import Dict, List, Tuple\n",
    "import numpy as np\n",
    "from scipy import stats\n",
    "import matplotlib\n",
    "import matplotlib.pyplot as plt\n",
    "import seaborn as sns\n",
    "from collections import Counter, defaultdict\n",
    "import yaml\n",
    "from experiment import *\n",
    "from models import *\n",
    "from experiment import VAEXperiment"
   ]
  },
  {
   "cell_type": "code",
   "execution_count": 2,
   "metadata": {},
   "outputs": [],
   "source": [
    "def generate_vis(influence_dir, output_dir, model_config, num_of_test_ex, num_of_top_train_ex_for_test_ex):\n",
    "    agg_influence_dict = pickle.load(open(os.path.join(influence_dir, 'agg_influence_dict.pkl'), \"rb\"))\n",
    "    config = yaml.safe_load(open(model_config, 'r'))\n",
    "    model = vae_models[config['model_params']['name']](**config['model_params'])\n",
    "    experiment = VAEXperiment(model, config['exp_params'])\n",
    "    train_dataloader = experiment.train_sequential_dataloader()\n",
    "    test_dataloader = experiment.test_dataloader()[0]\n",
    "    if not os.path.exists(output_dir):\n",
    "        os.makedirs(output_dir)\n",
    "    # dump test\n",
    "    for test_idx, test_batch in enumerate(test_dataloader):\n",
    "        if test_idx >= num_of_test_ex:\n",
    "            break\n",
    "        assert len(test_batch[0]) == 1 # check whether only one image is passed in\n",
    "        test_input, test_label = test_batch\n",
    "        vutils.save_image(test_input, os.path.join(output_dir, f\"test_{test_idx}.png\"), normalize=False, nrow=1)\n",
    "        vutils.save_image(test_input, os.path.join(output_dir, f\"normed_test_{test_idx}.png\"), normalize=True, nrow=1)\n",
    "    # dump train\n",
    "    for test_idx, test_batch in enumerate(test_dataloader):\n",
    "        if test_idx >= num_of_test_ex:\n",
    "            break\n",
    "        assert len(test_batch[0]) == 1 # check whether only one image is passed in\n",
    "        inf_sorted_idx = list(np.argsort(agg_influence_dict[test_idx][0]))\n",
    "        inf_sorted_idx.reverse()\n",
    "        train_pic_list = [None] * num_of_top_train_ex_for_test_ex\n",
    "        top_isi_i_dict = {isi: _i for _i, isi in list(enumerate(inf_sorted_idx))[:num_of_top_train_ex_for_test_ex]}\n",
    "        cnt_filled = 0\n",
    "        for train_idx, train_batch in enumerate(train_dataloader):\n",
    "            if cnt_filled >= num_of_top_train_ex_for_test_ex:\n",
    "                break\n",
    "            assert len(train_batch[0]) == 1 # check whether only one image is passed in\n",
    "            if train_idx in top_isi_i_dict:\n",
    "                train_pic_list[top_isi_i_dict[train_idx]] = train_batch[0]\n",
    "    #             print(agg_influence_dict[test_idx][0][train_idx])\n",
    "                cnt_filled += 1\n",
    "        vutils.save_image(torch.cat(train_pic_list, 0), os.path.join(output_dir, f\"influential_to_test_{test_idx}.png\"), normalize=False, nrow=10)\n",
    "        vutils.save_image(torch.cat(train_pic_list, 0), os.path.join(output_dir, f\"normed_influential_to_{test_idx}.png\"), normalize=True, nrow=10)"
   ]
  },
  {
   "cell_type": "code",
   "execution_count": 5,
   "metadata": {},
   "outputs": [],
   "source": [
    "influence_dir = \"vanilla_vae_dotprod_IF/\"\n",
    "output_dir = \"analysis_vanilla_vae_dotprod/\"\n",
    "model_config = \"configs/test_vae.yaml\"\n",
    "num_of_test_ex = 100\n",
    "num_of_top_train_ex_for_test_ex = 100"
   ]
  },
  {
   "cell_type": "code",
   "execution_count": 6,
   "metadata": {},
   "outputs": [
    {
     "name": "stdout",
     "output_type": "stream",
     "text": [
      "Files already downloaded and verified\n",
      "Files already downloaded and verified\n",
      "CPU times: user 3h 23min 48s, sys: 2min 24s, total: 3h 26min 13s\n",
      "Wall time: 3h 25min 56s\n"
     ]
    }
   ],
   "source": [
    "%%time\n",
    "generate_vis(influence_dir, output_dir, model_config, num_of_test_ex, num_of_top_train_ex_for_test_ex)"
   ]
  },
  {
   "cell_type": "code",
   "execution_count": null,
   "metadata": {},
   "outputs": [],
   "source": [
    "agg_influence_dict = pickle.load(open(os.path.join(influence_dir, 'agg_influence_dict.pkl'), \"rb\"))\n",
    "sns.distplot(agg_influence_dict[0][0])\n",
    "plt.show()"
   ]
  },
  {
   "cell_type": "code",
   "execution_count": null,
   "metadata": {},
   "outputs": [],
   "source": []
  }
 ],
 "metadata": {
  "kernelspec": {
   "display_name": "Python 3",
   "language": "python",
   "name": "python3"
  },
  "language_info": {
   "codemirror_mode": {
    "name": "ipython",
    "version": 3
   },
   "file_extension": ".py",
   "mimetype": "text/x-python",
   "name": "python",
   "nbconvert_exporter": "python",
   "pygments_lexer": "ipython3",
   "version": "3.6.13"
  }
 },
 "nbformat": 4,
 "nbformat_minor": 4
}
